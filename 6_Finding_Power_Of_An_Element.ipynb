{
 "cells": [
  {
   "cell_type": "code",
   "execution_count": 2,
   "metadata": {},
   "outputs": [
    {
     "name": "stdout",
     "output_type": "stream",
     "text": [
      "The power of element is: 65536\n"
     ]
    }
   ],
   "source": [
    "# Power of an element (a=element,n= +ve power)   # Frequent asked in technical coding round in Amazon\n",
    "#function method\n",
    "def PowerOfElement(a,n):\n",
    "  # small problem      Time complexity for small problem: O(c)\n",
    "  if n==0:\n",
    "    return 1\n",
    "  elif n==1:\n",
    "    return a\n",
    "  else:\n",
    "    #big problem (n>1)   \n",
    "    #divide\n",
    "    mid=n//2     #Time complexity for dividing the big problem: T(n/2)\n",
    "    b=PowerOfElement(a,mid)\n",
    "    result=b*b\n",
    "    if(result%2==0):  # Time complexity : O(c)      \n",
    "      return result\n",
    "    else:\n",
    "      return result*a\n",
    "\n",
    "\n",
    "##driver code\n",
    "a=2\n",
    "n=16\n",
    "#function calling\n",
    "result=PowerOfElement(a,n)\n",
    "print(\"The power of element is:\",result)\n",
    "\n",
    "\n",
    "# It is also called as skewed divide and conquer approach\n",
    "# Stack space for skewed recursive tree will be O(n)- worst case\n",
    "# Stack space for complete binary tree will be O(log n) -Best case and Average case\n",
    "\n",
    "# So overall time complexity will be T(n)= T(n/2)+c  = O(log n)"
   ]
  },
  {
   "cell_type": "code",
   "execution_count": null,
   "metadata": {},
   "outputs": [],
   "source": []
  }
 ],
 "metadata": {
  "kernelspec": {
   "display_name": "Python 3",
   "language": "python",
   "name": "python3"
  },
  "language_info": {
   "codemirror_mode": {
    "name": "ipython",
    "version": 3
   },
   "file_extension": ".py",
   "mimetype": "text/x-python",
   "name": "python",
   "nbconvert_exporter": "python",
   "pygments_lexer": "ipython3",
   "version": "3.8.19"
  }
 },
 "nbformat": 4,
 "nbformat_minor": 2
}
