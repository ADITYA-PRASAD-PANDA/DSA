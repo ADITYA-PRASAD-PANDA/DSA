{
 "cells": [
  {
   "cell_type": "code",
   "execution_count": 3,
   "metadata": {},
   "outputs": [
    {
     "name": "stdout",
     "output_type": "stream",
     "text": [
      "10  20  30  40  50  "
     ]
    }
   ],
   "source": [
    "class Node:\n",
    "  def __init__(self,data):\n",
    "    self.data=data\n",
    "    self.nextPtr=None\n",
    "\n",
    "\n",
    "class LinkedList:\n",
    "  def __init__(self):\n",
    "    self.head=None\n",
    "\n",
    "  def insertAtEnd(self,new_data):\n",
    "    new_Node=Node(new_data)\n",
    "    #check whether the linked list is empty or not\n",
    "    if self.head==None: #initially the node is empty\n",
    "      self.head=new_Node\n",
    "      return\n",
    "    #or-else\n",
    "    temp=self.head\n",
    "    while temp.nextPtr is not None:\n",
    "      temp=temp.nextPtr\n",
    "    temp.nextPtr=new_Node\n",
    "\n",
    "  def printLinkedList(self):\n",
    "    temp=self.head\n",
    "    while temp:\n",
    "      print(str(temp.data)+\" \",end=\" \")\n",
    "      temp=temp.nextPtr\n",
    "\n",
    "\n",
    "ll=LinkedList()\n",
    "ll.insertAtEnd(10)\n",
    "ll.insertAtEnd(20)\n",
    "ll.insertAtEnd(30)\n",
    "ll.insertAtEnd(40)\n",
    "ll.insertAtEnd(50)\n",
    "ll.printLinkedList()\n",
    "\n",
    "\n",
    "\n",
    "\n",
    "  "
   ]
  }
 ],
 "metadata": {
  "kernelspec": {
   "display_name": "base",
   "language": "python",
   "name": "python3"
  },
  "language_info": {
   "codemirror_mode": {
    "name": "ipython",
    "version": 3
   },
   "file_extension": ".py",
   "mimetype": "text/x-python",
   "name": "python",
   "nbconvert_exporter": "python",
   "pygments_lexer": "ipython3",
   "version": "3.11.5"
  }
 },
 "nbformat": 4,
 "nbformat_minor": 2
}
