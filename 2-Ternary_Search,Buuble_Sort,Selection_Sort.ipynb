{
 "cells": [
  {
   "cell_type": "code",
   "execution_count": 2,
   "metadata": {},
   "outputs": [
    {
     "name": "stdout",
     "output_type": "stream",
     "text": [
      "4\n"
     ]
    }
   ],
   "source": [
    "# Ternary Search\n",
    "\n",
    "#Function method\n",
    "def ternarySearch(arr,key,i,j):\n",
    "  while (i <= j):\n",
    "    mid1=i+(j-i)//3\n",
    "    mid2=j-(j-i)//3\n",
    "    if arr[mid1] == key:\n",
    "      return mid1\n",
    "    if arr[mid2] == key:\n",
    "      return mid2\n",
    "    if key < arr[mid1]:\n",
    "      return ternarySearch(arr,key,i,mid1-1)\n",
    "    elif key > arr[mid2]:\n",
    "      return ternarySearch(arr,key,mid1+1,j)\n",
    "    elif key >arr[mid1] and key < arr[mid2]:\n",
    "      return ternarySearch(arr,key,mid1+1,mid2-1)\n",
    "    else :\n",
    "      return False\n",
    "    \n",
    "\n",
    "#Driver code\n",
    "arr=[20,25,47,56,59,63,65,79,82]\n",
    "key=59\n",
    "i=0\n",
    "j=len(arr)-1\n",
    "result=ternarySearch(arr,key,i,j)\n",
    "print(result)"
   ]
  },
  {
   "cell_type": "code",
   "execution_count": 6,
   "metadata": {},
   "outputs": [
    {
     "name": "stdout",
     "output_type": "stream",
     "text": [
      "[2, 10, 20, 30, 45, 90]\n"
     ]
    }
   ],
   "source": [
    "# Bubble Sort\n",
    "\n",
    "#function method\n",
    "\n",
    "def BubbleSort(arr):\n",
    "  n=len(arr)\n",
    "  for i in range(n):\n",
    "    for j in range(0,n-i-1):\n",
    "      if(arr[j]>arr[j+1]):\n",
    "        arr[j],arr[j+1]= arr[j+1],arr[j]\n",
    "  return arr\n",
    "\n",
    "\n",
    "#driver code\n",
    "arr=[20,10,30,2,45,90]\n",
    "result=BubbleSort(arr)\n",
    "print(result)\n",
    "\n",
    "#Time complexity:- O(n^2)"
   ]
  },
  {
   "cell_type": "code",
   "execution_count": 8,
   "metadata": {},
   "outputs": [
    {
     "name": "stdout",
     "output_type": "stream",
     "text": [
      "[2, 10, 20, 30, 45, 90]\n"
     ]
    }
   ],
   "source": [
    "# Selection sort\n",
    "\n",
    "#function method\n",
    "def SelectionSort(arr):\n",
    "  n=len(arr)\n",
    "  for i in range(n):\n",
    "    for j in range(i+1,n):\n",
    "      min_index=i\n",
    "      if arr[j] < arr[min_index]:\n",
    "        min_index=j\n",
    "        arr[i],arr[min_index]=arr[min_index],arr[i]\n",
    "  return arr\n",
    "\n",
    "#driver code\n",
    "arr=[20,10,30,2,45,90]\n",
    "result=SelectionSort(arr)\n",
    "print(result)\n",
    "\n",
    "# Time complexity- O(n^2)"
   ]
  },
  {
   "cell_type": "markdown",
   "metadata": {},
   "source": [
    "Why binary search is more preferable as compared to ternary search ?\n",
    "\n",
    " Binary search is often more preferable than ternary search because it has a time complexity of O(log n), while ternary search has a time complexity of O(log3 n). This means that binary search tends to be faster for large datasets since it divides the search space into two halves with each iteration, whereas ternary search divides the search space into three parts. Additionally, binary search is simpler to implement and understand compared to ternary search, which involves more complex logic. Therefore, binary search is generally the preferred choice in most scenarios for its simplicity and efficiency."
   ]
  }
 ],
 "metadata": {
  "kernelspec": {
   "display_name": "Python 3",
   "language": "python",
   "name": "python3"
  },
  "language_info": {
   "codemirror_mode": {
    "name": "ipython",
    "version": 3
   },
   "file_extension": ".py",
   "mimetype": "text/x-python",
   "name": "python",
   "nbconvert_exporter": "python",
   "pygments_lexer": "ipython3",
   "version": "3.8.19"
  }
 },
 "nbformat": 4,
 "nbformat_minor": 2
}
