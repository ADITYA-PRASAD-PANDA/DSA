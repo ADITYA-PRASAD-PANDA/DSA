{
 "cells": [
  {
   "cell_type": "code",
   "execution_count": 1,
   "metadata": {},
   "outputs": [
    {
     "name": "stdout",
     "output_type": "stream",
     "text": [
      "5\n"
     ]
    }
   ],
   "source": [
    "\n",
    "#function method\n",
    "def CountNoOfWays(n):\n",
    "  # small problem\n",
    "  if n==1:\n",
    "    return 1  # through 1 step we can reach to 1 stair\n",
    "  elif n==2:\n",
    "    return 2 # through  step we can reach to 2 stairs\n",
    "  else:\n",
    "    # big problem(n>2)\n",
    "    return CountNoOfWays(n-1) + CountNoOfWays(n-2) # fibonacci series approach\n",
    "\n",
    "#driver code\n",
    "n=4\n",
    "result=CountNoOfWays(n)\n",
    "print(result)\n",
    "\n",
    "\n",
    "# limitations - it will not work for large numbers because of less stack memory. TLE (Time limited error)\n",
    "# This is also known as Overlapping SubProblem -  matlab ki ye otput store nahi karta har ek operation ya recurrsive calling mai. So iss type ke problem ko Dynamic Programmin se solve kiya jata hai."
   ]
  },
  {
   "cell_type": "code",
   "execution_count": null,
   "metadata": {},
   "outputs": [],
   "source": []
  }
 ],
 "metadata": {
  "kernelspec": {
   "display_name": "Python 3",
   "language": "python",
   "name": "python3"
  },
  "language_info": {
   "codemirror_mode": {
    "name": "ipython",
    "version": 3
   },
   "file_extension": ".py",
   "mimetype": "text/x-python",
   "name": "python",
   "nbconvert_exporter": "python",
   "pygments_lexer": "ipython3",
   "version": "3.8.19"
  }
 },
 "nbformat": 4,
 "nbformat_minor": 2
}
