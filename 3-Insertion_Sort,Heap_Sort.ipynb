{
 "cells": [
  {
   "cell_type": "code",
   "execution_count": 4,
   "metadata": {},
   "outputs": [
    {
     "name": "stdout",
     "output_type": "stream",
     "text": [
      "[13, 20, 23, 78, 98]\n"
     ]
    }
   ],
   "source": [
    "# Insertion Sort\n",
    "\n",
    "#Function method\n",
    "def InsertionSort(arr):\n",
    "  for i in range(1,len(arr)):\n",
    "    key=arr[i]\n",
    "    j=i-1\n",
    "    while j>=0 and key<arr[j]:\n",
    "      arr[j+1]=arr[j]\n",
    "      j=j-1\n",
    "    arr[j+1]=key\n",
    "  return(arr)\n",
    "\n",
    "#driver code\n",
    "arr=[20,13,78,98,23]\n",
    "result=InsertionSort(arr)\n",
    "print(result)\n",
    "\n",
    "#Time complexity: O(n^2)"
   ]
  },
  {
   "cell_type": "markdown",
   "metadata": {},
   "source": [
    "If a array is sorted then which sorting algorithm should be preferred?\n",
    "\n",
    "InsertionSort because it will give time complexity of O(n) as it will have n-1 comparisons and 0 swaps."
   ]
  },
  {
   "cell_type": "markdown",
   "metadata": {},
   "source": [
    "Which sort is preferred when the array is highly unsorted?\n",
    "\n",
    "Quick sort"
   ]
  },
  {
   "cell_type": "markdown",
   "metadata": {},
   "source": [
    "Before performing heap sort we must have clear cut idea on complete binary tree.(including binary tree , almost complete binary tree, complete binary tree, full binary tree)\n",
    "\n",
    "for Fully binary tree array are used for storing values as there is less wastage of  memory space  but in skewed binary tree there is a lot of wastage of space while storing values in array format , for it linked list is used.\n",
    "\n",
    "Complete binary tree is a superset of complete binary tree and fully binary tree."
   ]
  },
  {
   "cell_type": "markdown",
   "metadata": {},
   "source": [
    "Concepts of min-heap and max-heap is required."
   ]
  }
 ],
 "metadata": {
  "kernelspec": {
   "display_name": "Python 3",
   "language": "python",
   "name": "python3"
  },
  "language_info": {
   "codemirror_mode": {
    "name": "ipython",
    "version": 3
   },
   "file_extension": ".py",
   "mimetype": "text/x-python",
   "name": "python",
   "nbconvert_exporter": "python",
   "pygments_lexer": "ipython3",
   "version": "3.8.19"
  }
 },
 "nbformat": 4,
 "nbformat_minor": 2
}
