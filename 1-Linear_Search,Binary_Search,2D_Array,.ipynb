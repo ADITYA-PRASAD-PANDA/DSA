{
 "cells": [
  {
   "cell_type": "code",
   "execution_count": 1,
   "metadata": {},
   "outputs": [
    {
     "name": "stdout",
     "output_type": "stream",
     "text": [
      "Element found at position 5\n"
     ]
    }
   ],
   "source": [
    "# Linear Search\n",
    "\n",
    "\n",
    "#function method\n",
    "def LinearSearch(arr,x):\n",
    "  for i in range(len(arr)):\n",
    "    if arr[i] == x:\n",
    "      return i\n",
    "  \n",
    "  return -1\n",
    "\n",
    "#driver code\n",
    "arr = [20,45,27,47,55,67,75,88,90]\n",
    "x = 67\n",
    "#function calling\n",
    "result = LinearSearch(arr, x)\n",
    "print(\"Element found at position\",result)"
   ]
  },
  {
   "cell_type": "code",
   "execution_count": 5,
   "metadata": {},
   "outputs": [
    {
     "name": "stdout",
     "output_type": "stream",
     "text": [
      "Element found at position 6\n"
     ]
    }
   ],
   "source": [
    "#Binary Search using Recursion( Calling the same function inside the method)\n",
    "#Time Complexity:- O(log n)\n",
    "\n",
    "#function method\n",
    "def binarySearch(arr,x,i,j):\n",
    "  while i<=j:\n",
    "    mid=i+(j-i)//2\n",
    "    if arr[mid]==x:\n",
    "      return mid\n",
    "    \n",
    "    elif arr[mid] < x:\n",
    "      #if element present at right side\n",
    "      return binarySearch(arr,x,mid+1,j)\n",
    "    \n",
    "    else:\n",
    "      #if element  present at left side\n",
    "     return binarySearch(arr,x,i,mid-1)\n",
    "\n",
    "  #if element is not found\n",
    "  return -1\n",
    "\n",
    "#Driver code\n",
    "arr=[20,30,40,50,60,70,80,90]\n",
    "x=80\n",
    "i=0\n",
    "j=len(arr)-1\n",
    "#function calling\n",
    "result = binarySearch(arr,x,i,j)\n",
    "print(\"Element found at position\",result)\n"
   ]
  },
  {
   "cell_type": "code",
   "execution_count": 7,
   "metadata": {},
   "outputs": [
    {
     "name": "stdout",
     "output_type": "stream",
     "text": [
      "Element found at position -1\n"
     ]
    }
   ],
   "source": [
    "#Binary Search using Iterative approach\n",
    "#function method\n",
    "def binarySearch(arr,x,i,j):\n",
    "  while i<=j:\n",
    "    mid=i+(j-i)//2\n",
    "    if arr[mid]==x:\n",
    "      return mid\n",
    "    \n",
    "    elif arr[mid] < x:\n",
    "      #if element present at right side\n",
    "      i=mid+1\n",
    "    \n",
    "    else:\n",
    "      #if element  present at left side\n",
    "     i=mid-1\n",
    "\n",
    "  #if element is not found\n",
    "  return -1\n",
    "\n",
    "#Driver code\n",
    "arr=[20,30,40,50,60,70,80,90]\n",
    "x=100\n",
    "i=0\n",
    "j=len(arr)-1\n",
    "#function calling\n",
    "result = binarySearch(arr,x,i,j)\n",
    "print(\"Element found at position\",result)\n"
   ]
  },
  {
   "cell_type": "code",
   "execution_count": 3,
   "metadata": {},
   "outputs": [
    {
     "name": "stdout",
     "output_type": "stream",
     "text": [
      "(4, 5)\n"
     ]
    }
   ],
   "source": [
    "# Program to print pair of element that matches the output \n",
    "#(Two pair approach)\n",
    "#Function method\n",
    "def pairSearch(arr,l,r,target_sum):\n",
    "  while l<=r:\n",
    "    if (arr[l]+arr[r] == target_sum):\n",
    "      return l,r\n",
    "    elif (arr[l]+arr[r] < target_sum):\n",
    "      l=l+1\n",
    "    else:\n",
    "      r=r-1\n",
    "  return -1,-1\n",
    "#driver code\n",
    "arr=[20,40,60,80,90,120,240]\n",
    "l=0\n",
    "r=len(arr)-1\n",
    "target_sum=210\n",
    "result=pairSearch(arr,l,r,target_sum)\n",
    "print(result)\n",
    "\n",
    "#Time complexity: O(n) because of one iterative while loop"
   ]
  },
  {
   "cell_type": "code",
   "execution_count": 4,
   "metadata": {},
   "outputs": [
    {
     "name": "stdout",
     "output_type": "stream",
     "text": [
      "13\n"
     ]
    }
   ],
   "source": [
    "#Best time to buy and sell the stock (Amazon asked for 55 times, Microsoft asked for 17 times)\n",
    "\n",
    "#time complexity: O(n) because of one iterative for loop\n",
    "#function method\n",
    "def stock(arr):\n",
    "  min_price = float('inf')\n",
    "  max_Profit=0\n",
    "\n",
    "  for i in range(len(price)):\n",
    "    if price[i]<min_price:\n",
    "      min_price = price[i]\n",
    "    elif price[i]-min_price >max_Profit:\n",
    "      max_Profit=price[i]-min_price\n",
    "  \n",
    "  return max_Profit\n",
    "\n",
    "#driver code\n",
    "price=[7,4,5,3,6,16]\n",
    "result= stock(arr)\n",
    "print(result)"
   ]
  },
  {
   "cell_type": "code",
   "execution_count": 1,
   "metadata": {},
   "outputs": [
    {
     "name": "stdout",
     "output_type": "stream",
     "text": [
      "True\n"
     ]
    }
   ],
   "source": [
    "# Performing Binary Search in 2D Array (Optimized Approach)\n",
    "#time complexity :- O(log(m*n))\n",
    "#Function method\n",
    "def search2DArray(arr, target):\n",
    "  # No of rows in array\n",
    "  m=len(arr)\n",
    "  if(m==0): return False\n",
    "  # No of columns in array\n",
    "  n=len(arr[0])\n",
    "  left=0\n",
    "  right=m*n -1\n",
    "  while left<=right:\n",
    "    mid = left+(right-left)//2\n",
    "\n",
    "    mid_element = arr[mid//n][mid%n]\n",
    "    if target==mid_element:\n",
    "      return True\n",
    "    elif target <mid_element:\n",
    "      right= mid - 1\n",
    "    else:\n",
    "      left = mid + 1\n",
    "  return False\n",
    "   \n",
    "\n",
    "  #Driver code\n",
    "arr=[[1,3,5,7],[10,11,16,20], [23,30,34,60]]\n",
    "target=16\n",
    "result=search2DArray(arr, target)\n",
    "print(result)"
   ]
  },
  {
   "cell_type": "code",
   "execution_count": 5,
   "metadata": {},
   "outputs": [
    {
     "name": "stdout",
     "output_type": "stream",
     "text": [
      "The fisrt error found at position 3\n"
     ]
    }
   ],
   "source": [
    "#  You are a product manager and currently leading a team to develop a new product.\n",
    "# Unfortunately, the latest version of your product fails the quality check. Since each\n",
    "# version is developed based on the previous version, all the versions after a bad version\n",
    "# are also bad. Suppose you have n version and you want to find out the first bad one,\n",
    "# which causes all the following ones to be bad. Also, talk about the time complexity of\n",
    "# your code.\n",
    "# Test Cases:\n",
    "# Input: [0,0,0,1,1,1,1,1,1]\n",
    "# Output: 3\n",
    "# Explanation: 0 indicates a good version and 1 indicates a bad version. So, the index of\n",
    "# the first 1 is at 3. Thus, the output is 3\n",
    "\n",
    "\n",
    "#function code\n",
    "def findError(arr):\n",
    "  for i in range(len(arr)):\n",
    "    if(arr[i]==1):\n",
    "      return i\n",
    "  return False\n",
    "\n",
    "#Driver Code:\n",
    "arr=[0,0,0,1,1,1,1,1,1]\n",
    "result=findError(arr)\n",
    "print(\"The fisrt error found at position\",result)\n",
    "\n",
    "\n",
    "#Time Complexity for the code will be O(n)\n",
    "# Binary search cannot be performed as elements are not in sorted order"
   ]
  },
  {
   "cell_type": "code",
   "execution_count": 12,
   "metadata": {},
   "outputs": [
    {
     "name": "stdout",
     "output_type": "stream",
     "text": [
      "4\n"
     ]
    }
   ],
   "source": [
    "def firstBadVersion(n):\n",
    "    left, right = 1, n\n",
    "\n",
    "    while left < right:\n",
    "        mid = left + (right - left) // 2\n",
    "        if isBadVersion(mid):\n",
    "            right = mid\n",
    "        else:\n",
    "            left = mid + 1\n",
    "\n",
    "    return left\n",
    "\n",
    "# Example function indicating whether a version is bad or not\n",
    "def isBadVersion(version):\n",
    "    versions = [0, 0, 0, 1, 1, 1, 1, 1, 1]  # Example list of versions, with 0 indicating good and 1 indicating bad\n",
    "    return versions[version - 1] == 1\n",
    "\n",
    "# Test case\n",
    "print(firstBadVersion(9))  # Output: 3\n"
   ]
  },
  {
   "cell_type": "code",
   "execution_count": 10,
   "metadata": {},
   "outputs": [
    {
     "name": "stdout",
     "output_type": "stream",
     "text": [
      "True\n",
      "False\n"
     ]
    }
   ],
   "source": [
    "# Given a positive integer num, write a program that returns True if num is a perfect\n",
    "# square else return False. Do not use built-in functions like sqrt. Also, talk about the time\n",
    "# complexity of your code.\n",
    "# Test Cases:\n",
    "# Input: 16\n",
    "# Output: True\n",
    "# Input: 14\n",
    "# Output: False\n",
    "\n",
    "def isPerfectSquare(num):\n",
    "    if num < 2:\n",
    "        return True\n",
    "\n",
    "    left, right = 2, num // 2\n",
    "\n",
    "    while left <= right:\n",
    "        mid = left + (right - left) // 2\n",
    "        square = mid * mid\n",
    "\n",
    "        if square == num:\n",
    "            return True\n",
    "        elif square < num:\n",
    "            left = mid + 1\n",
    "        else:\n",
    "            right = mid - 1\n",
    "\n",
    "    return False\n",
    "\n",
    "# Test cases\n",
    "print(isPerfectSquare(16))  # Output: True\n",
    "print(isPerfectSquare(14))  # Output: False\n",
    "\n",
    "\n",
    "# This code uses binary search to find the square root of the number. The time complexity of this algorithm is O(log n), where n is the input number. This is because the algorithm reduces the search space by half in each iteration, effectively dividing the search space logarithmically. Therefore, it's quite efficient for large inputs."
   ]
  },
  {
   "cell_type": "code",
   "execution_count": 11,
   "metadata": {},
   "outputs": [
    {
     "name": "stdout",
     "output_type": "stream",
     "text": [
      "2\n",
      "2\n"
     ]
    }
   ],
   "source": [
    "\n",
    "\n",
    "\n",
    "# Compute and return the square root of x, where x is guaranteed to be a non-negative\n",
    "# integer. And since the return type is an integer, the decimal digits are truncated and only\n",
    "# the integer part of the result is returned. Also, talk about the time complexity of your\n",
    "# code.\n",
    "# Test Cases:\n",
    "# Input: 4\n",
    "# Output: 2\n",
    "# Input: 8\n",
    "# Output: 2\n",
    "# Explanation: The square root of 8 is 2.8284…., the decimal part is truncated and 2 is\n",
    "# returned.\n",
    "# Hint: Try to use a modified binary search approach for an optimized solution\n",
    "\n",
    "\n",
    "\n",
    "def mySqrt(x):\n",
    "    if x < 2:\n",
    "        return x\n",
    "\n",
    "    left, right = 1, x // 2\n",
    "\n",
    "    while left <= right:\n",
    "        mid = left + (right - left) // 2\n",
    "        square = mid * mid\n",
    "\n",
    "        if square == x:\n",
    "            return mid\n",
    "        elif square < x:\n",
    "            left = mid + 1\n",
    "        else:\n",
    "            right = mid - 1\n",
    "\n",
    "    return right  # When left > right, right holds the floor of the square root\n",
    "\n",
    "# Test cases\n",
    "print(mySqrt(4))  # Output: 2\n",
    "print(mySqrt(8))  # Output: 2\n"
   ]
  },
  {
   "cell_type": "markdown",
   "metadata": {},
   "source": [
    " Why binary search is more preferable as compared to ternary search ?\n",
    "\n",
    " Binary search is often more preferable than ternary search because it has a time complexity of O(log n), while ternary search has a time complexity of O(log3 n). This means that binary search tends to be faster for large datasets since it divides the search space into two halves with each iteration, whereas ternary search divides the search space into three parts. Additionally, binary search is simpler to implement and understand compared to ternary search, which involves more complex logic. Therefore, binary search is generally the preferred choice in most scenarios for its simplicity and efficiency."
   ]
  }
 ],
 "metadata": {
  "kernelspec": {
   "display_name": "Python 3",
   "language": "python",
   "name": "python3"
  },
  "language_info": {
   "codemirror_mode": {
    "name": "ipython",
    "version": 3
   },
   "file_extension": ".py",
   "mimetype": "text/x-python",
   "name": "python",
   "nbconvert_exporter": "python",
   "pygments_lexer": "ipython3",
   "version": "3.8.19"
  }
 },
 "nbformat": 4,
 "nbformat_minor": 2
}
