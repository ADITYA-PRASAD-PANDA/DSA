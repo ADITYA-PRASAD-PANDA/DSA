{
 "cells": [
  {
   "cell_type": "markdown",
   "metadata": {},
   "source": [
    "## Insert Node at the beginning"
   ]
  },
  {
   "cell_type": "code",
   "execution_count": 4,
   "metadata": {},
   "outputs": [
    {
     "name": "stdout",
     "output_type": "stream",
     "text": [
      "10 9 8 12 "
     ]
    }
   ],
   "source": [
    "# initial node\n",
    "class Node:\n",
    "  def __init__ (self,data):\n",
    "    self.data=data\n",
    "    self.next=None\n",
    "\n",
    "# Creating a Linkedlist which will contains all the nodes\n",
    "class LinkedList:\n",
    "  def __init__ (self):\n",
    "    self.head=None\n",
    "    \n",
    "    ## insert node at the beginning\n",
    "  def insertAtBeginning(self,new_data):\n",
    "\n",
    "      #creation of a new node\n",
    "      new_node=Node(new_data)\n",
    "\n",
    "      #insert at beginning\n",
    "      new_node.next=self.head\n",
    "      self.head=new_node\n",
    "\n",
    "      # print the linkedlist\n",
    "  def printList(self):\n",
    "        temp=self.head # pointer pointing to the 1st node\n",
    "        while(temp):   \n",
    "          print(temp.data,end=\" \")\n",
    "          temp=temp.next # temp++\n",
    "  \n",
    "\n",
    "\n",
    "#Driver code\n",
    "llist=LinkedList()\n",
    "llist.insertAtBeginning(12)\n",
    "llist.insertAtBeginning(8)\n",
    "llist.insertAtBeginning(9)\n",
    "llist.insertAtBeginning(10)\n",
    "\n",
    "llist.printList()\n",
    "\n",
    "\n",
    "\n",
    "\n",
    "\n",
    "\n"
   ]
  },
  {
   "cell_type": "markdown",
   "metadata": {},
   "source": [
    "## Inserting node at end"
   ]
  },
  {
   "cell_type": "code",
   "execution_count": 9,
   "metadata": {},
   "outputs": [
    {
     "name": "stdout",
     "output_type": "stream",
     "text": [
      "12 8 9 10 "
     ]
    }
   ],
   "source": [
    "class Node:\n",
    "  def __init__(self,data):\n",
    "    self.data=data\n",
    "    self.next=None\n",
    "  \n",
    "class LinkedList:\n",
    "  def __init__(self):\n",
    "    self.head = None\n",
    "\n",
    "    #insert at end\n",
    "  def insertAtEnd(self,new_data):\n",
    "     # creation of the new node\n",
    "    new_node = Node(new_data)\n",
    "\n",
    "    # if linked list is empty\n",
    "    if self.head is None:\n",
    "      self.head = new_node\n",
    "      return\n",
    "    \n",
    "    # insert at end\n",
    "    temp = self.head\n",
    "    while(temp.next):\n",
    "      temp = temp.next\n",
    "    temp.next = new_node\n",
    "\n",
    "    # print the linkedlist\n",
    "  def printList(self):\n",
    "      temp = self.head\n",
    "      while(temp):\n",
    "        print(temp.data,end=\" \")\n",
    "        temp = temp.next\n",
    "\n",
    "#Driver code\n",
    "\n",
    "llist = LinkedList()\n",
    "llist.insertAtEnd(12)\n",
    "llist.insertAtEnd(8)\n",
    "llist.insertAtEnd(9)\n",
    "llist.insertAtEnd(10)\n",
    "\n",
    "llist.printList()\n",
    "\n",
    "    \n"
   ]
  }
 ],
 "metadata": {
  "kernelspec": {
   "display_name": "Python 3",
   "language": "python",
   "name": "python3"
  },
  "language_info": {
   "codemirror_mode": {
    "name": "ipython",
    "version": 3
   },
   "file_extension": ".py",
   "mimetype": "text/x-python",
   "name": "python",
   "nbconvert_exporter": "python",
   "pygments_lexer": "ipython3",
   "version": "3.8.19"
  }
 },
 "nbformat": 4,
 "nbformat_minor": 2
}
