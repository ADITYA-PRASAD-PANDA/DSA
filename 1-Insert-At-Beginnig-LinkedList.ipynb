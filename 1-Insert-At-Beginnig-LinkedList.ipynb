{
 "cells": [
  {
   "cell_type": "code",
   "execution_count": 3,
   "metadata": {},
   "outputs": [
    {
     "name": "stdout",
     "output_type": "stream",
     "text": [
      "10 20 30 40 50 "
     ]
    }
   ],
   "source": [
    "class Node:\n",
    "  def __init__(self,data): #Empty node initialized\n",
    "    self.data = data\n",
    "    self.nextPtr=None\n",
    "\n",
    "\n",
    "class LinkedList:\n",
    "  def __init__(self):  #Empty linked list initialized with head\n",
    "    self.head=None\n",
    "\n",
    "  def insertAtBeginning(self,new_data):\n",
    "    new_Node=Node(new_data)  # new node created\n",
    "    #insertion at beginning of linked list\n",
    "    new_Node.nextPtr=self.head\n",
    "    self.head=new_Node\n",
    "\n",
    "  def printLinkedList(self):\n",
    "    temp=self.head\n",
    "    while(temp):\n",
    "      print(str(temp.data)+\" \", end=\"\")\n",
    "      temp=temp.nextPtr\n",
    "\n",
    "ll=LinkedList() #object of linked list created\n",
    "ll.insertAtBeginning(50) #through object we can call any function\n",
    "ll.insertAtBeginning(40)\n",
    "ll.insertAtBeginning(30)\n",
    "ll.insertAtBeginning(20)\n",
    "ll.insertAtBeginning(10)\n",
    "ll.printLinkedList()\n"
   ]
  }
 ],
 "metadata": {
  "kernelspec": {
   "display_name": "Python 3",
   "language": "python",
   "name": "python3"
  },
  "language_info": {
   "codemirror_mode": {
    "name": "ipython",
    "version": 3
   },
   "file_extension": ".py",
   "mimetype": "text/x-python",
   "name": "python",
   "nbconvert_exporter": "python",
   "pygments_lexer": "ipython3",
   "version": "3.11.5"
  }
 },
 "nbformat": 4,
 "nbformat_minor": 2
}
